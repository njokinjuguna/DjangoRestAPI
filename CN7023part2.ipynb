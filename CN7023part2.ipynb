{
  "nbformat": 4,
  "nbformat_minor": 0,
  "metadata": {
    "colab": {
      "provenance": [],
      "gpuType": "T4",
      "authorship_tag": "ABX9TyOVWsqWFk19oRthxCOP8PyY",
      "include_colab_link": true
    },
    "kernelspec": {
      "name": "python3",
      "display_name": "Python 3"
    },
    "language_info": {
      "name": "python"
    },
    "accelerator": "GPU"
  },
  "cells": [
    {
      "cell_type": "markdown",
      "metadata": {
        "id": "view-in-github",
        "colab_type": "text"
      },
      "source": [
        "<a href=\"https://colab.research.google.com/github/njokinjuguna/DjangoRestAPI/blob/main/CN7023part2.ipynb\" target=\"_parent\"><img src=\"https://colab.research.google.com/assets/colab-badge.svg\" alt=\"Open In Colab\"/></a>"
      ]
    },
    {
      "cell_type": "code",
      "execution_count": 5,
      "metadata": {
        "id": "CDgn00_zTFTE"
      },
      "outputs": [],
      "source": [
        "#importing modules\n",
        "import keras\n",
        "from keras.models import Sequential\n",
        "from keras.layers import Dense, Flatten,BatchNormalization, Activation, Dropout\n",
        "# from keras.utils.np_utils import to_categorical\n",
        "from tensorflow.keras.utils import to_categorical\n",
        "from tensorflow.keras.applications import VGG19\n",
        "from keras.preprocessing.image import ImageDataGenerator\n",
        "from tensorflow.keras.optimizers import SGD,Adam\n",
        "from keras.callbacks import ReduceLROnPlateau\n",
        "from tensorflow.keras.backend import epsilon"
      ]
    },
    {
      "cell_type": "code",
      "source": [
        "#import matplotlib for image processing\n",
        "from sklearn.metrics import confusion_matrix, ConfusionMatrixDisplay\n",
        "import matplotlib.pyplot as plt\n",
        "import matplotlib.image as mpimg\n",
        "import numpy as np\n",
        "import pandas as pd\n",
        "import os\n",
        "import seaborn as sns\n",
        "from sklearn.model_selection import train_test_split\n",
        "from tensorflow.keras.applications import VGG16\n",
        "from tensorflow.keras.models import Sequential\n",
        "from tensorflow.keras.layers import Flatten\n",
        "#import confusion_matrix,plot_confusion_matrix\n",
        "\n",
        "\n"
      ],
      "metadata": {
        "id": "F25KtKpOU_XI"
      },
      "execution_count": 6,
      "outputs": []
    },
    {
      "cell_type": "code",
      "source": [],
      "metadata": {
        "id": "6ydabaCNlSC1"
      },
      "execution_count": 6,
      "outputs": []
    },
    {
      "cell_type": "code",
      "source": [
        "from keras.datasets import cifar10\n"
      ],
      "metadata": {
        "id": "K6kDRJLGVKRo"
      },
      "execution_count": 7,
      "outputs": []
    },
    {
      "cell_type": "code",
      "source": [
        "#reading the dataset\n",
        "(X_train, y_train), (X_test, y_test) =cifar10.load_data()"
      ],
      "metadata": {
        "colab": {
          "base_uri": "https://localhost:8080/"
        },
        "id": "B8Du-v6RVMAh",
        "outputId": "ee113dee-f2fb-49b9-c18b-6816e5d6a8dc"
      },
      "execution_count": 8,
      "outputs": [
        {
          "output_type": "stream",
          "name": "stdout",
          "text": [
            "Downloading data from https://www.cs.toronto.edu/~kriz/cifar-10-python.tar.gz\n",
            "170498071/170498071 [==============================] - 13s 0us/step\n"
          ]
        }
      ]
    },
    {
      "cell_type": "code",
      "source": [
        "#confirm the number of images in each set\n",
        "X_train.shape\n",
        "y_train.shape"
      ],
      "metadata": {
        "colab": {
          "base_uri": "https://localhost:8080/"
        },
        "id": "xK7GOXynVRip",
        "outputId": "a884d943-50c0-46b3-c40b-c366824f80f3"
      },
      "execution_count": 9,
      "outputs": [
        {
          "output_type": "execute_result",
          "data": {
            "text/plain": [
              "(50000, 1)"
            ]
          },
          "metadata": {},
          "execution_count": 9
        }
      ]
    },
    {
      "cell_type": "code",
      "source": [
        "#We divide the downloaded dataset to three namely - training, test and validation sets\n",
        "X_train,X_val,y_train,y_val =train_test_split(X_train,y_train,test_size=.3)"
      ],
      "metadata": {
        "id": "lAPclImsVUrJ"
      },
      "execution_count": 10,
      "outputs": []
    },
    {
      "cell_type": "code",
      "source": [
        "#We dimension our dataset\n",
        "print((X_train.shape, y_train.shape))\n",
        "print((X_val.shape, y_val.shape))\n",
        "print((X_test.shape, y_test.shape))\n"
      ],
      "metadata": {
        "colab": {
          "base_uri": "https://localhost:8080/"
        },
        "id": "i-bXVFNiVYXe",
        "outputId": "206d412c-78d7-4d47-ebbb-863e39a8eb07"
      },
      "execution_count": 11,
      "outputs": [
        {
          "output_type": "stream",
          "name": "stdout",
          "text": [
            "((35000, 32, 32, 3), (35000, 1))\n",
            "((15000, 32, 32, 3), (15000, 1))\n",
            "((10000, 32, 32, 3), (10000, 1))\n"
          ]
        }
      ]
    },
    {
      "cell_type": "code",
      "source": [
        "#Hot encoding - converting our target varaibles and getting the number of categories/classes\n",
        "y_train = to_categorical(y_train)\n",
        "y_val = to_categorical(y_val)\n",
        "y_test = to_categorical(y_test)"
      ],
      "metadata": {
        "id": "QY1DxSz2VcUA"
      },
      "execution_count": 12,
      "outputs": []
    },
    {
      "cell_type": "code",
      "source": [
        "def convolutional_deep_model():\n",
        "    # We will now use the VGG19 as a deep convolutional neural network as a transfer learning model\n",
        "    num_classes = y_train.shape[1]\n",
        "\n",
        "    initial_model = VGG19(include_top=False,\n",
        "                          weights='imagenet',\n",
        "                          input_shape=(32, 32, 3),\n",
        "                          classes=num_classes)\n",
        "\n",
        "    # Define the Keras Sequential model with dense layers\n",
        "    model = Sequential()\n",
        "    model.add(initial_model)\n",
        "    model.add(Flatten())\n",
        "    #Add dense layers and RELU activation\n",
        "    model.add(Dense(512, activation='relu'))\n",
        "    model.add(Dense(256, activation='relu'))\n",
        "    model.add(Dense(128,activation='relu'))\n",
        "    #Adding dropouts neurons - regularization technique for neural network models\n",
        "    model.add(Dropout(.3))\n",
        "    model.add(Dense(num_classes,\n",
        "    activation='softmax'))\n",
        "    #Check model dimension\n",
        "    model.summary()\n",
        "    return model\n",
        "\n",
        "#We build and train our model\n",
        "model = convolutional_deep_model()"
      ],
      "metadata": {
        "colab": {
          "base_uri": "https://localhost:8080/"
        },
        "id": "qiO7bsIcVg-V",
        "outputId": "35bbf84e-d6b4-4790-d25b-e22e9962630e"
      },
      "execution_count": 13,
      "outputs": [
        {
          "output_type": "stream",
          "name": "stdout",
          "text": [
            "Downloading data from https://storage.googleapis.com/tensorflow/keras-applications/vgg19/vgg19_weights_tf_dim_ordering_tf_kernels_notop.h5\n",
            "80134624/80134624 [==============================] - 4s 0us/step\n",
            "Model: \"sequential\"\n",
            "_________________________________________________________________\n",
            " Layer (type)                Output Shape              Param #   \n",
            "=================================================================\n",
            " vgg19 (Functional)          (None, 1, 1, 512)         20024384  \n",
            "                                                                 \n",
            " flatten (Flatten)           (None, 512)               0         \n",
            "                                                                 \n",
            " dense (Dense)               (None, 512)               262656    \n",
            "                                                                 \n",
            " dense_1 (Dense)             (None, 256)               131328    \n",
            "                                                                 \n",
            " dense_2 (Dense)             (None, 128)               32896     \n",
            "                                                                 \n",
            " dropout (Dropout)           (None, 128)               0         \n",
            "                                                                 \n",
            " dense_3 (Dense)             (None, 10)                1290      \n",
            "                                                                 \n",
            "=================================================================\n",
            "Total params: 20452554 (78.02 MB)\n",
            "Trainable params: 20452554 (78.02 MB)\n",
            "Non-trainable params: 0 (0.00 Byte)\n",
            "_________________________________________________________________\n"
          ]
        }
      ]
    },
    {
      "cell_type": "code",
      "source": [
        "#define the hyperparameters for our model\n",
        "batch_size = 100\n",
        "epochs = 50\n",
        "learn_rate = 0.01\n",
        "adam = Adam(learning_rate=learn_rate,beta_1=0.9, beta_2=0.999, epsilon=None, amsgrad=False)\n",
        "#optimizer = Adam(learning_rate=0.001)"
      ],
      "metadata": {
        "id": "5eH2uBCqVn_g"
      },
      "execution_count": 14,
      "outputs": []
    },
    {
      "cell_type": "code",
      "source": [
        "#Compile the model\n",
        "model.compile(optimizer='adam',loss='categorical_crossentropy',metrics=['accuracy'])\n",
        "model.fit(X_train, y_train,validation_data=(X_val, y_val),\n",
        "steps_per_epoch = X_train.shape[0]//batch_size,\n",
        "epochs=epochs, batch_size=batch_size,verbose=2)"
      ],
      "metadata": {
        "colab": {
          "base_uri": "https://localhost:8080/"
        },
        "id": "SshG78DwVwpC",
        "outputId": "c2ed1c13-77ce-4ad5-978c-8971e35bd776"
      },
      "execution_count": 15,
      "outputs": [
        {
          "output_type": "stream",
          "name": "stdout",
          "text": [
            "Epoch 1/50\n",
            "350/350 - 34s - loss: 2.4361 - accuracy: 0.0989 - val_loss: 2.3026 - val_accuracy: 0.0975 - 34s/epoch - 96ms/step\n",
            "Epoch 2/50\n",
            "350/350 - 21s - loss: 2.3027 - accuracy: 0.1009 - val_loss: 2.3028 - val_accuracy: 0.0977 - 21s/epoch - 60ms/step\n",
            "Epoch 3/50\n",
            "350/350 - 21s - loss: 2.3027 - accuracy: 0.0994 - val_loss: 2.3028 - val_accuracy: 0.0977 - 21s/epoch - 60ms/step\n",
            "Epoch 4/50\n",
            "350/350 - 21s - loss: 2.3027 - accuracy: 0.1006 - val_loss: 2.3028 - val_accuracy: 0.0987 - 21s/epoch - 61ms/step\n",
            "Epoch 5/50\n",
            "350/350 - 22s - loss: 2.3027 - accuracy: 0.0995 - val_loss: 2.3028 - val_accuracy: 0.0977 - 22s/epoch - 62ms/step\n",
            "Epoch 6/50\n",
            "350/350 - 22s - loss: 2.3027 - accuracy: 0.1007 - val_loss: 2.3028 - val_accuracy: 0.0977 - 22s/epoch - 63ms/step\n",
            "Epoch 7/50\n",
            "350/350 - 22s - loss: 2.3027 - accuracy: 0.0975 - val_loss: 2.3029 - val_accuracy: 0.0977 - 22s/epoch - 62ms/step\n",
            "Epoch 8/50\n",
            "350/350 - 22s - loss: 2.3027 - accuracy: 0.0985 - val_loss: 2.3028 - val_accuracy: 0.0977 - 22s/epoch - 62ms/step\n",
            "Epoch 9/50\n",
            "350/350 - 22s - loss: 2.3027 - accuracy: 0.0990 - val_loss: 2.3028 - val_accuracy: 0.0975 - 22s/epoch - 62ms/step\n",
            "Epoch 10/50\n",
            "350/350 - 22s - loss: 2.3027 - accuracy: 0.0991 - val_loss: 2.3028 - val_accuracy: 0.0977 - 22s/epoch - 64ms/step\n",
            "Epoch 11/50\n",
            "350/350 - 22s - loss: 2.3027 - accuracy: 0.0987 - val_loss: 2.3027 - val_accuracy: 0.0975 - 22s/epoch - 63ms/step\n",
            "Epoch 12/50\n",
            "350/350 - 22s - loss: 2.3027 - accuracy: 0.0983 - val_loss: 2.3027 - val_accuracy: 0.0975 - 22s/epoch - 62ms/step\n",
            "Epoch 13/50\n",
            "350/350 - 22s - loss: 2.3027 - accuracy: 0.0977 - val_loss: 2.3027 - val_accuracy: 0.0977 - 22s/epoch - 62ms/step\n",
            "Epoch 14/50\n",
            "350/350 - 22s - loss: 2.3027 - accuracy: 0.0983 - val_loss: 2.3028 - val_accuracy: 0.0975 - 22s/epoch - 62ms/step\n",
            "Epoch 15/50\n",
            "350/350 - 22s - loss: 2.3027 - accuracy: 0.1008 - val_loss: 2.3028 - val_accuracy: 0.0977 - 22s/epoch - 63ms/step\n",
            "Epoch 16/50\n",
            "350/350 - 22s - loss: 2.3027 - accuracy: 0.1009 - val_loss: 2.3027 - val_accuracy: 0.0977 - 22s/epoch - 63ms/step\n",
            "Epoch 17/50\n",
            "350/350 - 22s - loss: 2.3027 - accuracy: 0.0975 - val_loss: 2.3027 - val_accuracy: 0.0977 - 22s/epoch - 63ms/step\n",
            "Epoch 18/50\n",
            "350/350 - 22s - loss: 2.3027 - accuracy: 0.1019 - val_loss: 2.3028 - val_accuracy: 0.0975 - 22s/epoch - 63ms/step\n",
            "Epoch 19/50\n",
            "350/350 - 22s - loss: 2.3027 - accuracy: 0.0998 - val_loss: 2.3027 - val_accuracy: 0.0975 - 22s/epoch - 63ms/step\n",
            "Epoch 20/50\n",
            "350/350 - 22s - loss: 2.3027 - accuracy: 0.1000 - val_loss: 2.3028 - val_accuracy: 0.0975 - 22s/epoch - 63ms/step\n",
            "Epoch 21/50\n",
            "350/350 - 22s - loss: 2.3027 - accuracy: 0.0985 - val_loss: 2.3028 - val_accuracy: 0.0997 - 22s/epoch - 63ms/step\n",
            "Epoch 22/50\n",
            "350/350 - 22s - loss: 2.3027 - accuracy: 0.0987 - val_loss: 2.3028 - val_accuracy: 0.0977 - 22s/epoch - 63ms/step\n",
            "Epoch 23/50\n",
            "350/350 - 22s - loss: 2.3027 - accuracy: 0.1003 - val_loss: 2.3028 - val_accuracy: 0.0977 - 22s/epoch - 63ms/step\n",
            "Epoch 24/50\n",
            "350/350 - 22s - loss: 2.3027 - accuracy: 0.0992 - val_loss: 2.3028 - val_accuracy: 0.0977 - 22s/epoch - 63ms/step\n",
            "Epoch 25/50\n",
            "350/350 - 22s - loss: 2.3027 - accuracy: 0.0993 - val_loss: 2.3028 - val_accuracy: 0.0987 - 22s/epoch - 63ms/step\n",
            "Epoch 26/50\n",
            "350/350 - 22s - loss: 2.3027 - accuracy: 0.0986 - val_loss: 2.3028 - val_accuracy: 0.0987 - 22s/epoch - 63ms/step\n",
            "Epoch 27/50\n",
            "350/350 - 22s - loss: 2.3027 - accuracy: 0.0983 - val_loss: 2.3028 - val_accuracy: 0.0975 - 22s/epoch - 63ms/step\n",
            "Epoch 28/50\n",
            "350/350 - 22s - loss: 2.3027 - accuracy: 0.0987 - val_loss: 2.3029 - val_accuracy: 0.0977 - 22s/epoch - 63ms/step\n",
            "Epoch 29/50\n",
            "350/350 - 22s - loss: 2.3027 - accuracy: 0.0984 - val_loss: 2.3028 - val_accuracy: 0.0977 - 22s/epoch - 63ms/step\n",
            "Epoch 30/50\n",
            "350/350 - 22s - loss: 2.3027 - accuracy: 0.0985 - val_loss: 2.3027 - val_accuracy: 0.0977 - 22s/epoch - 63ms/step\n",
            "Epoch 31/50\n",
            "350/350 - 22s - loss: 2.3027 - accuracy: 0.0989 - val_loss: 2.3028 - val_accuracy: 0.0975 - 22s/epoch - 63ms/step\n",
            "Epoch 32/50\n",
            "350/350 - 22s - loss: 2.3027 - accuracy: 0.0985 - val_loss: 2.3028 - val_accuracy: 0.0977 - 22s/epoch - 63ms/step\n",
            "Epoch 33/50\n",
            "350/350 - 22s - loss: 2.3027 - accuracy: 0.0975 - val_loss: 2.3028 - val_accuracy: 0.0975 - 22s/epoch - 63ms/step\n",
            "Epoch 34/50\n",
            "350/350 - 22s - loss: 2.3027 - accuracy: 0.0998 - val_loss: 2.3028 - val_accuracy: 0.0977 - 22s/epoch - 63ms/step\n",
            "Epoch 35/50\n",
            "350/350 - 22s - loss: 2.3027 - accuracy: 0.0993 - val_loss: 2.3028 - val_accuracy: 0.0977 - 22s/epoch - 63ms/step\n",
            "Epoch 36/50\n",
            "350/350 - 22s - loss: 2.3027 - accuracy: 0.0986 - val_loss: 2.3028 - val_accuracy: 0.0977 - 22s/epoch - 63ms/step\n",
            "Epoch 37/50\n",
            "350/350 - 22s - loss: 2.3027 - accuracy: 0.0985 - val_loss: 2.3028 - val_accuracy: 0.0975 - 22s/epoch - 63ms/step\n",
            "Epoch 38/50\n",
            "350/350 - 22s - loss: 2.3027 - accuracy: 0.0990 - val_loss: 2.3028 - val_accuracy: 0.0977 - 22s/epoch - 63ms/step\n",
            "Epoch 39/50\n",
            "350/350 - 22s - loss: 2.3027 - accuracy: 0.0986 - val_loss: 2.3028 - val_accuracy: 0.0977 - 22s/epoch - 63ms/step\n",
            "Epoch 40/50\n",
            "350/350 - 22s - loss: 2.3027 - accuracy: 0.0985 - val_loss: 2.3028 - val_accuracy: 0.0975 - 22s/epoch - 63ms/step\n",
            "Epoch 41/50\n",
            "350/350 - 22s - loss: 2.3027 - accuracy: 0.0975 - val_loss: 2.3028 - val_accuracy: 0.0975 - 22s/epoch - 63ms/step\n",
            "Epoch 42/50\n",
            "350/350 - 22s - loss: 2.3027 - accuracy: 0.0991 - val_loss: 2.3028 - val_accuracy: 0.0975 - 22s/epoch - 63ms/step\n",
            "Epoch 43/50\n",
            "350/350 - 22s - loss: 2.3027 - accuracy: 0.0963 - val_loss: 2.3028 - val_accuracy: 0.0975 - 22s/epoch - 63ms/step\n",
            "Epoch 44/50\n",
            "350/350 - 22s - loss: 2.3027 - accuracy: 0.1003 - val_loss: 2.3028 - val_accuracy: 0.0987 - 22s/epoch - 63ms/step\n",
            "Epoch 45/50\n",
            "350/350 - 22s - loss: 2.3027 - accuracy: 0.0976 - val_loss: 2.3028 - val_accuracy: 0.0975 - 22s/epoch - 63ms/step\n",
            "Epoch 46/50\n",
            "350/350 - 22s - loss: 2.3027 - accuracy: 0.0977 - val_loss: 2.3028 - val_accuracy: 0.0975 - 22s/epoch - 63ms/step\n",
            "Epoch 47/50\n",
            "350/350 - 22s - loss: 2.3027 - accuracy: 0.0981 - val_loss: 2.3028 - val_accuracy: 0.0975 - 22s/epoch - 63ms/step\n",
            "Epoch 48/50\n",
            "350/350 - 22s - loss: 2.3027 - accuracy: 0.0976 - val_loss: 2.3028 - val_accuracy: 0.0975 - 22s/epoch - 63ms/step\n",
            "Epoch 49/50\n",
            "350/350 - 22s - loss: 2.3027 - accuracy: 0.0994 - val_loss: 2.3028 - val_accuracy: 0.0977 - 22s/epoch - 63ms/step\n",
            "Epoch 50/50\n",
            "350/350 - 22s - loss: 2.3027 - accuracy: 0.0992 - val_loss: 2.3028 - val_accuracy: 0.0975 - 22s/epoch - 63ms/step\n"
          ]
        },
        {
          "output_type": "execute_result",
          "data": {
            "text/plain": [
              "<keras.src.callbacks.History at 0x7a0662ca1bd0>"
            ]
          },
          "metadata": {},
          "execution_count": 15
        }
      ]
    },
    {
      "cell_type": "code",
      "source": [
        "#Traning accuracy pf 94.59% loss 0.1952\n",
        "#Plot the train and validation loss and accuracy\n",
        "f,ax = plt.subplots(2,1)\n",
        "#loss\n",
        "ax[0].plot(model.history.history['loss'],color='b', label='Training Loss')\n",
        "ax[0].plot(model.history.history['val_loss'],color='r', label='Validation Loss')"
      ],
      "metadata": {
        "colab": {
          "base_uri": "https://localhost:8080/",
          "height": 448
        },
        "id": "qDwDX8izV0E6",
        "outputId": "39fb6564-f271-48e5-83d4-ca57ed4774a0"
      },
      "execution_count": 16,
      "outputs": [
        {
          "output_type": "execute_result",
          "data": {
            "text/plain": [
              "[<matplotlib.lines.Line2D at 0x7a05ec673a90>]"
            ]
          },
          "metadata": {},
          "execution_count": 16
        },
        {
          "output_type": "display_data",
          "data": {
            "text/plain": [
              "<Figure size 640x480 with 2 Axes>"
            ],
            "image/png": "[encoded data removed]"
          },
          "metadata": {}
        }
      ]
    },
    {
      "cell_type": "code",
      "source": [
        "#accuracy\n",
        "ax[1].plot(model.history.history['accuracy'],color='b',label='Training Accuracy')\n",
        "ax[1].plot(model.history.history['val_accuracy'],color='r',label='Validation Accuracy')"
      ],
      "metadata": {
        "colab": {
          "base_uri": "https://localhost:8080/"
        },
        "id": "m9aAIBl2V4sc",
        "outputId": "29d10942-7a3a-483e-9548-174f8b61d77a"
      },
      "execution_count": 17,
      "outputs": [
        {
          "output_type": "execute_result",
          "data": {
            "text/plain": [
              "[<matplotlib.lines.Line2D at 0x7a05ec5784f0>]"
            ]
          },
          "metadata": {},
          "execution_count": 17
        }
      ]
    },
    {
      "cell_type": "code",
      "source": [
        "#Plotting the training loas and accuracy\n",
        "plt.plot(np.arange(0, epochs),model.history.history[\"loss\"],\n",
        "label=\"train_loss\")\n",
        "plt.plot(np.arange(0, epochs),model.history.history[\"val_loss\"],\n",
        "label=\"val_loss\")\n",
        "plt.plot(np.arange(0, epochs),model.history.history[\"accuracy\"],\n",
        "label=\"train_acc\")\n",
        "plt.plot(np.arange(0, epochs),model.history.history[\"val_accuracy\"],\n",
        "label=\"val_acc\")\n",
        "plt.title(\"Training Loss and Accuracy on custom multi image classifier using using cifars10 data set\")\n",
        "plt.xlabel(\"Epoch number\")\n",
        "plt.ylabel(\"Loss/Accuracy\")\n",
        "plt.legend(loc=\"lower left\")"
      ],
      "metadata": {
        "colab": {
          "base_uri": "https://localhost:8080/",
          "height": 490
        },
        "id": "9Cahsr4uWKII",
        "outputId": "1eacf630-7d91-4570-ed93-3e55379d1a50"
      },
      "execution_count": 18,
      "outputs": [
        {
          "output_type": "execute_result",
          "data": {
            "text/plain": [
              "<matplotlib.legend.Legend at 0x7a05ec596d70>"
            ]
          },
          "metadata": {},
          "execution_count": 18
        },
        {
          "output_type": "display_data",
          "data": {
            "text/plain": [
              "<Figure size 640x480 with 1 Axes>"
            ],
            "image/png": "[encoded data removed]"
          },
          "metadata": {}
        }
      ]
    },
    {
      "cell_type": "code",
      "source": [
        "#Make predictions with the model using the test data set\n",
        "y_pred =np.argmax(model.predict(X_test),axis=1)\n",
        "y_true = np.argmax(y_test,axis=1)\n",
        "print('Confusion Matrix')\n",
        "print(confusion_matrix(y_true, y_pred))"
      ],
      "metadata": {
        "colab": {
          "base_uri": "https://localhost:8080/"
        },
        "id": "Z4xPh-AnWOes",
        "outputId": "43218783-6436-4538-a443-fb9cf73bee6a"
      },
      "execution_count": 19,
      "outputs": [
        {
          "output_type": "stream",
          "name": "stdout",
          "text": [
            "313/313 [==============================] - 4s 10ms/step\n",
            "Confusion Matrix\n",
            "[[   0    0    0    0    0    0    0    0    0 1000]\n",
            " [   0    0    0    0    0    0    0    0    0 1000]\n",
            " [   0    0    0    0    0    0    0    0    0 1000]\n",
            " [   0    0    0    0    0    0    0    0    0 1000]\n",
            " [   0    0    0    0    0    0    0    0    0 1000]\n",
            " [   0    0    0    0    0    0    0    0    0 1000]\n",
            " [   0    0    0    0    0    0    0    0    0 1000]\n",
            " [   0    0    0    0    0    0    0    0    0 1000]\n",
            " [   0    0    0    0    0    0    0    0    0 1000]\n",
            " [   0    0    0    0    0    0    0    0    0 1000]]\n"
          ]
        }
      ]
    }
  ]
}